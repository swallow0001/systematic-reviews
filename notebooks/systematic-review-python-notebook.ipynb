{
 "cells": [
  {
   "cell_type": "markdown",
   "metadata": {
    "deletable": true,
    "editable": true
   },
   "source": [
    "## Notes \n",
    "\n",
    "- rens van der schoot\n",
    "- \n",
    "\n",
    "\n",
    "## Ideas\n",
    "\n",
    "- symantic web technology, micro applications (combine the approaches)\n",
    "- the role of authors, citations\n",
    "- sensitivity 1 doesn't work. (multiple raters, different expertise)\n",
    "- citation networks\n",
    "- use of rules how to interpreted the text. \n",
    "- \n",
    "\n",
    "\n",
    "\n",
    "\n",
    "\n",
    "\n",
    "## Remarks\n",
    "\n",
    "- Covidence and Rayyan (software)\n",
    "- \n",
    "\n",
    "\n",
    "\n",
    "# Systematic review\n",
    "\n",
    "Based on: https://github.com/keras-team/keras/blob/master/examples/pretrained_word_embeddings.py\n",
    "\n",
    "> This script loads pre-trained word embeddings (GloVe embeddings)\n",
    "into a frozen Keras Embedding layer, and uses it to\n",
    "train a text classification model on the 20 Newsgroup dataset\n",
    "(classification of newsgroup messages into 20 different categories).\n",
    "GloVe embedding data can be found at:\n",
    "http://nlp.stanford.edu/data/glove.6B.zip\n",
    "(source page: http://nlp.stanford.edu/projects/glove/)\n",
    "20 Newsgroup data can be found at:\n",
    "http://www.cs.cmu.edu/afs/cs.cmu.edu/project/theo-20/www/data/news20.html\n",
    "\n",
    "\n",
    "## Related links\n",
    "https://machinelearningmastery.com/develop-bidirectional-lstm-sequence-classification-python-keras/\n",
    "https://machinelearningmastery.com/best-practices-document-classification-deep-learning/\n",
    "https://www.quora.com/What-deep-learning-method-to-use-to-classify-text-files"
   ]
  },
  {
   "cell_type": "markdown",
   "metadata": {
    "deletable": true,
    "editable": true
   },
   "source": [
    "Import dependencies"
   ]
  },
  {
   "cell_type": "code",
   "execution_count": 1,
   "metadata": {
    "collapsed": true,
    "deletable": true,
    "editable": true
   },
   "outputs": [],
   "source": [
    "%matplotlib inline"
   ]
  },
  {
   "cell_type": "code",
   "execution_count": 2,
   "metadata": {
    "collapsed": false,
    "deletable": true,
    "editable": true
   },
   "outputs": [
    {
     "name": "stderr",
     "output_type": "stream",
     "text": [
      "Using TensorFlow backend.\n"
     ]
    }
   ],
   "source": [
    "from __future__ import print_function\n",
    "\n",
    "import os\n",
    "import sys\n",
    "import numpy as np\n",
    "import pandas as pd\n",
    "import sklearn\n",
    "import keras_metrics\n",
    "\n",
    "from keras.preprocessing.text import Tokenizer\n",
    "from keras.preprocessing.sequence import pad_sequences\n",
    "from keras.utils import to_categorical\n",
    "from keras.layers import Dense, Input, GlobalMaxPooling1D, LSTM\n",
    "from keras.layers import Conv1D, MaxPooling1D, Embedding\n",
    "from keras.models import Model\n",
    "from keras import metrics\n",
    "from keras.callbacks import TensorBoard\n",
    "\n",
    "from nltk.corpus import stopwords\n",
    "from prettytable import PrettyTable\n",
    "from numpy import cumsum\n",
    "from matplotlib import pyplot\n",
    "from pandas import DataFrame\n",
    "from datetime import datetime\n",
    "from scipy import stats\n",
    "from keras.layers import Bidirectional"
   ]
  },
  {
   "cell_type": "markdown",
   "metadata": {
    "deletable": true,
    "editable": true
   },
   "source": [
    "## Project properties\n",
    "\n",
    "Basic output properties related to the folder structure."
   ]
  },
  {
   "cell_type": "code",
   "execution_count": 3,
   "metadata": {
    "collapsed": true,
    "deletable": true,
    "editable": true
   },
   "outputs": [],
   "source": [
    "OUTPUT_DIR = os.path.join(\"..\", \"output\")\n",
    "\n",
    "LOG_DIR = os.path.join(\"logs\")"
   ]
  },
  {
   "cell_type": "markdown",
   "metadata": {
    "deletable": true,
    "editable": true
   },
   "source": [
    "## Data\n",
    "\n",
    "Basic data related variables."
   ]
  },
  {
   "cell_type": "code",
   "execution_count": 4,
   "metadata": {
    "collapsed": true,
    "deletable": true,
    "editable": true
   },
   "outputs": [],
   "source": [
    "# the data folder\n",
    "BASE_DIR = os.path.join(\"..\", \"data\")\n",
    "\n",
    "# the folder with the word2vec \n",
    "GLOVE_DIR = os.path.join(BASE_DIR)\n",
    "\n",
    "# the papers about PTSD\n",
    "TEXT_DATA_DIR = os.path.join(BASE_DIR, \"example_dataset_1\", \"csv\")\n",
    "\n",
    "# the target variable\n",
    "TARGET_VARIABLE = \"included_final\" # \"included_ats\" (after title screening)\n"
   ]
  },
  {
   "cell_type": "markdown",
   "metadata": {
    "deletable": true,
    "editable": true
   },
   "source": [
    "Read data in memory."
   ]
  },
  {
   "cell_type": "code",
   "execution_count": 5,
   "metadata": {
    "collapsed": false,
    "deletable": true,
    "editable": true
   },
   "outputs": [
    {
     "name": "stdout",
     "output_type": "stream",
     "text": [
      "Processing text dataset\n",
      "Found 5077 texts.\n"
     ]
    }
   ],
   "source": [
    "# second, prepare text samples and their labels\n",
    "print('Processing text dataset')\n",
    "\n",
    "data_path = os.path.join(TEXT_DATA_DIR, \"schoot-lgmm-ptsd-traindata.csv\")\n",
    "full_data = pd.read_csv(data_path)\n",
    "\n",
    "texts = (full_data['title'].fillna('') + ' ' + full_data['abstract'].fillna(''))\n",
    "labels = full_data[TARGET_VARIABLE]\n",
    "print('Found %s texts.' % len(texts))"
   ]
  },
  {
   "cell_type": "markdown",
   "metadata": {
    "deletable": true,
    "editable": true
   },
   "source": [
    "## Word tokenizing\n",
    "\n",
    "Apply vectorization to texts."
   ]
  },
  {
   "cell_type": "code",
   "execution_count": 6,
   "metadata": {
    "collapsed": true,
    "deletable": true,
    "editable": true
   },
   "outputs": [],
   "source": [
    "MAX_SEQUENCE_LENGTH = 1000\n",
    "MAX_NUM_WORDS = 20000"
   ]
  },
  {
   "cell_type": "code",
   "execution_count": 7,
   "metadata": {
    "collapsed": false,
    "deletable": true,
    "editable": true,
    "scrolled": true
   },
   "outputs": [
    {
     "name": "stdout",
     "output_type": "stream",
     "text": [
      "Found 26396 unique tokens.\n",
      "Shape of data tensor: (5077, 1000)\n",
      "Shape of label tensor: (5077, 2)\n"
     ]
    }
   ],
   "source": [
    "# finally, vectorize the text samples into a 2D integer tensor\n",
    "tokenizer = Tokenizer(num_words=MAX_NUM_WORDS)\n",
    "tokenizer.fit_on_texts(texts)\n",
    "sequences = tokenizer.texts_to_sequences(texts)\n",
    "\n",
    "# get the word index\n",
    "word_index = tokenizer.word_index\n",
    "print('Found %s unique tokens.' % len(word_index))\n",
    "\n",
    "data = pad_sequences(sequences, \n",
    "                     maxlen=MAX_SEQUENCE_LENGTH, \n",
    "                     padding='post', truncating='post')\n",
    "labels = to_categorical(np.asarray(labels))\n",
    "print('Shape of data tensor:', data.shape)\n",
    "print('Shape of label tensor:', labels.shape)"
   ]
  },
  {
   "cell_type": "markdown",
   "metadata": {
    "deletable": true,
    "editable": true
   },
   "source": [
    "## Create training and validation set\n",
    "Split the dataset into a training and a validation set. Use SciKit-learn for this. \n",
    "We decided to train our model on a small dataset (around 500), to make the environment more simulated to the active learning approach where we have small number of labeled data points. "
   ]
  },
  {
   "cell_type": "code",
   "execution_count": 8,
   "metadata": {
    "collapsed": false,
    "deletable": true,
    "editable": true
   },
   "outputs": [
    {
     "name": "stdout",
     "output_type": "stream",
     "text": [
      "x_train shape: (4061, 1000) , x_val shape: (1016, 1000)\n",
      "y_train shape: (4061, 2) , y_val shape: (1016, 2)\n",
      "32\n",
      "8\n"
     ]
    }
   ],
   "source": [
    "from sklearn.model_selection import train_test_split\n",
    "\n",
    "def split_data(validation_split, added_positives):\n",
    "    x_train, x_val, y_train, y_val = train_test_split(\n",
    "        data,\n",
    "        labels,\n",
    "        test_size=validation_split,\n",
    "        random_state=2018,\n",
    "        stratify=labels\n",
    "    )\n",
    "\n",
    "    # add added_positives positive paper to training dataset\n",
    "    if added_positives>0 :\n",
    "        positive_indx = np.where(y_val[:,1]==1)[0]\n",
    "        x_train = np.vstack((x_train, x_val[positive_indx[0:added_positives]]))\n",
    "        y_train = np.vstack((y_train,y_val[positive_indx[0:added_positives]]))\n",
    "\n",
    "        x_val = np.delete(x_val, positive_indx[0:added_positives],0)\n",
    "        y_val = np.delete(y_val, positive_indx[0:added_positives],0)\n",
    "\n",
    "    return (x_train, x_val, y_train, y_val)\n",
    "\n",
    "x_train, x_val, y_train, y_val = split_data(0.2, 0)\n",
    "\n",
    "print(\"x_train shape:\", x_train.shape, \", x_val shape:\", x_val.shape)\n",
    "print(\"y_train shape:\", y_train.shape, \", y_val shape:\", y_val.shape)\n",
    "print((y_train[:,1]==1).sum())\n",
    "print((y_val[:,1]==1).sum())\n"
   ]
  },
  {
   "cell_type": "markdown",
   "metadata": {
    "deletable": true,
    "editable": true
   },
   "source": [
    "We added 15 positive cases to training, it causes that model label all data as positive. Now I try with stratified samples."
   ]
  },
  {
   "cell_type": "markdown",
   "metadata": {
    "deletable": true,
    "editable": true
   },
   "source": [
    "## Prepare embedding layer\n"
   ]
  },
  {
   "cell_type": "code",
   "execution_count": 9,
   "metadata": {
    "collapsed": true,
    "deletable": true,
    "editable": true
   },
   "outputs": [],
   "source": [
    "## set dimensions\n",
    "EMBEDDING_DIM = 300"
   ]
  },
  {
   "cell_type": "code",
   "execution_count": 10,
   "metadata": {
    "collapsed": false,
    "deletable": true,
    "editable": true
   },
   "outputs": [
    {
     "name": "stdout",
     "output_type": "stream",
     "text": [
      "Indexing word vectors.\n",
      "Found 2518927 word vectors.\n"
     ]
    }
   ],
   "source": [
    "# first, build index mapping words in the embeddings set\n",
    "# to their embedding vector\n",
    "\n",
    "print('Indexing word vectors.')\n",
    "\n",
    "embeddings_index = {}\n",
    "with open(os.path.join(GLOVE_DIR, 'wiki.en.vec'), encoding='utf8') as f:\n",
    "    for line in f:\n",
    "        \n",
    "        values = line.split()\n",
    "        split_on_i = len(values) - EMBEDDING_DIM\n",
    "        word = ' '.join(values[0:split_on_i])\n",
    "        coefs = np.asarray(values[split_on_i:], dtype='float32')\n",
    "        embeddings_index[word] = coefs\n",
    "print('Found %s word vectors.' % len(embeddings_index))"
   ]
  },
  {
   "cell_type": "code",
   "execution_count": 11,
   "metadata": {
    "collapsed": false,
    "deletable": true,
    "editable": true
   },
   "outputs": [
    {
     "name": "stdout",
     "output_type": "stream",
     "text": [
      "Shape of embedding matrix:  (20000, 300)\n"
     ]
    }
   ],
   "source": [
    "num_words = min(MAX_NUM_WORDS, len(word_index) + 1)\n",
    "embedding_matrix = np.zeros((num_words, EMBEDDING_DIM))\n",
    "\n",
    "for word, i in word_index.items():\n",
    "    if i >= MAX_NUM_WORDS:\n",
    "            continue\n",
    "        \n",
    "    embedding_vector = embeddings_index.get(word)\n",
    "    \n",
    "    if embedding_vector is not None:\n",
    "        \n",
    "        # words not found in embedding index will be all-zeros.\n",
    "        embedding_matrix[i] = embedding_vector\n",
    "                \n",
    "print('Shape of embedding matrix: ', embedding_matrix.shape)"
   ]
  },
  {
   "cell_type": "markdown",
   "metadata": {
    "deletable": true,
    "editable": true
   },
   "source": [
    "## Make an Keras embedding layer."
   ]
  },
  {
   "cell_type": "code",
   "execution_count": 12,
   "metadata": {
    "collapsed": true,
    "deletable": true,
    "editable": true
   },
   "outputs": [],
   "source": [
    "# load pre-trained word embeddings into an Embedding layer\n",
    "# note that we set trainable = False so as to keep the embeddings fixed\n",
    "def build_embedding(weights):\n",
    "    return Embedding(num_words,\n",
    "                                EMBEDDING_DIM,\n",
    "                                weights=[weights],\n",
    "                                input_length=MAX_SEQUENCE_LENGTH,\n",
    "                                trainable=False)\n",
    "\n",
    "embedding_layer = build_embedding(embedding_matrix)"
   ]
  },
  {
   "cell_type": "markdown",
   "metadata": {
    "deletable": true,
    "editable": true
   },
   "source": [
    "## Models\n",
    "\n",
    "This section contains models to use later on. Focusing on Convolutional and LSTM models. \n",
    "\n",
    "### LSTM"
   ]
  },
  {
   "cell_type": "code",
   "execution_count": 13,
   "metadata": {
    "collapsed": true,
    "deletable": true,
    "editable": true
   },
   "outputs": [],
   "source": [
    "def get_lstm_model(backwards, dropout):\n",
    "    sequence_input = Input(shape=(MAX_SEQUENCE_LENGTH,), dtype='int32')\n",
    "    embedded_sequences = embedding_layer(sequence_input)\n",
    "\n",
    "    x = LSTM(10,input_shape=(MAX_SEQUENCE_LENGTH,),  go_backwards=backwards, dropout=dropout)(embedded_sequences)\n",
    "    x = Dense(128, activation='relu')(x)\n",
    "    output = Dense(2, activation='softmax')(x)\n",
    "\n",
    "    model_lstm = Model(inputs=sequence_input, outputs=output)\n",
    "\n",
    "    model_lstm.compile(loss='binary_crossentropy',\n",
    "                  optimizer='rmsprop',\n",
    "                  metrics=['acc',keras_metrics.recall()])\n",
    "\n",
    "    model_lstm.summary()\n",
    "    return model_lstm\n",
    "\n",
    "def get_bi_lstm_model(mode, dropout):\n",
    "    sequence_input = Input(shape=(MAX_SEQUENCE_LENGTH,), dtype='int32')\n",
    "    embedded_sequences = embedding_layer(sequence_input)\n",
    "\n",
    "    x = Bidirectional(LSTM(10,input_shape=(MAX_SEQUENCE_LENGTH,), dropout=dropout),merge_mode= mode)(embedded_sequences)\n",
    "    x = Dense(128, activation='relu')(x)\n",
    "    output = Dense(2, activation='softmax')(x)\n",
    "\n",
    "    model_lstm = Model(inputs=sequence_input, outputs=output)\n",
    "\n",
    "    model_lstm.compile(loss='binary_crossentropy',\n",
    "                  optimizer='rmsprop',\n",
    "                  metrics=['acc',keras_metrics.recall()])\n",
    "\n",
    "    model_lstm.summary()\n",
    "    return model_lstm\n"
   ]
  },
  {
   "cell_type": "markdown",
   "metadata": {
    "deletable": true,
    "editable": true
   },
   "source": [
    "### Convnet"
   ]
  },
  {
   "cell_type": "code",
   "execution_count": null,
   "metadata": {
    "collapsed": false,
    "deletable": true,
    "editable": true
   },
   "outputs": [],
   "source": [
    "# # train a 1D convnet with global maxpooling\n",
    "# def build_convnet(embedded_sequences):\n",
    "#     x = Conv1D(128, 5, activation='relu')(embedded_sequences)\n",
    "#     x = MaxPooling1D(5)(x)\n",
    "#     x = Conv1D(128, 5, activation='relu')(x)\n",
    "#     x = MaxPooling1D(5)(x)\n",
    "#     x = Conv1D(128, 5, activation='relu')(x)\n",
    "#     x = GlobalMaxPooling1D()(x)\n",
    "#     x = Dense(128, activation='relu')(x)\n",
    "#     preds = Dense(2, activation='softmax')(x)\n",
    "\n",
    "#     model_convnet = Model(inputs=sequence_input, outputs=preds)\n",
    "\n",
    "#     model_convnet.compile(loss='binary_crossentropy',\n",
    "#                   optimizer='rmsprop',\n",
    "#                   metrics=['acc',keras_metrics.recall()])\n",
    "#     return model_convnet\n",
    "    \n",
    "    \n",
    "# sequence_input = Input(shape=(MAX_SEQUENCE_LENGTH,), dtype='int32')\n",
    "\n",
    "# ##build convnet model\n",
    "# embedded_sequences = embedding_layer(sequence_input)\n",
    "# model_convnet = build_convnet(embedded_sequences)"
   ]
  },
  {
   "cell_type": "markdown",
   "metadata": {
    "deletable": true,
    "editable": true
   },
   "source": [
    "## Train the model\n",
    "\n",
    "### calculating class weights"
   ]
  },
  {
   "cell_type": "code",
   "execution_count": 14,
   "metadata": {
    "collapsed": false,
    "deletable": true,
    "editable": true
   },
   "outputs": [
    {
     "data": {
      "text/plain": [
       "[1.0079365041220509, 127.00000047311187]"
      ]
     },
     "execution_count": 14,
     "metadata": {},
     "output_type": "execute_result"
    }
   ],
   "source": [
    "weights = [1/y_val[:, 0].mean(), 1/y_val[:, 1].mean()]\n",
    "weights"
   ]
  },
  {
   "cell_type": "markdown",
   "metadata": {
    "deletable": true,
    "editable": true
   },
   "source": [
    "### Visualize model scores with TensorBoard"
   ]
  },
  {
   "cell_type": "code",
   "execution_count": 15,
   "metadata": {
    "collapsed": true,
    "deletable": true,
    "editable": true
   },
   "outputs": [],
   "source": [
    "def save_run(sub_dir=None):\n",
    "    \n",
    "    if sub_dir is not None:\n",
    "        log_dir = os.path.join(LOG_DIR, sub_dir)\n",
    "    else:\n",
    "        log_dir = LOG_DIR\n",
    "    \n",
    "    return TensorBoard(log_dir=log_dir, histogram_freq=0,\n",
    "                       write_graph=True, write_images=True)\n",
    "    \n"
   ]
  },
  {
   "cell_type": "code",
   "execution_count": 18,
   "metadata": {
    "collapsed": false,
    "deletable": true,
    "editable": true
   },
   "outputs": [],
   "source": [
    "def train_model(model, epoch_no):\n",
    "    \n",
    "    # fit model for one epoch on this sequence\n",
    "    start=datetime.now()\n",
    "    hist = model.fit(x_train, y_train,\n",
    "            batch_size=BATCH_SIZE,\n",
    "            epochs=epoch_no,\n",
    "            validation_data=(x_val, y_val),\n",
    "            shuffle=True,\n",
    "            class_weight=weights,\n",
    "            verbose = 0\n",
    "        )  \n",
    "\n",
    "    runtime=datetime.now() - start\n",
    "    \n",
    "    loss = hist.history['loss'][0]    \n",
    "    return (model,loss, runtime)\n",
    " \n",
    "\n",
    "def get_scores(model, threshhold):\n",
    "    prediction = model.predict(x_val)\n",
    "    y_classes = ( [0 if x < threshhold else 1 for x in prediction[:,1]])\n",
    "    y_value = y_val.argmax(axis=1)\n",
    "    tn, fp, fn, tp = sklearn.metrics.confusion_matrix(y_value,y_classes).ravel()\n",
    "    return (tn, fp, fn, tp)\n",
    "\n",
    "\n",
    "def get_pred(model):\n",
    "    prediction = model.predict(x_val)\n",
    "    return prediction\n",
    "\n",
    "\n",
    "def get_scores_pred(pred, threshhold):\n",
    "    y_classes = ( [0 if x < threshhold else 1 for x in pred[:,1]])\n",
    "    y_value = y_val.argmax(axis=1)\n",
    "    (tn, fp, fn, tp) = sklearn.metrics.confusion_matrix(y_value,y_classes).ravel()\n",
    "    return (tn, fp, fn, tp)\n"
   ]
  },
  {
   "cell_type": "markdown",
   "metadata": {
    "deletable": true,
    "editable": true
   },
   "source": [
    "### Compare Various LSTM models"
   ]
  },
  {
   "cell_type": "code",
   "execution_count": 19,
   "metadata": {
    "collapsed": true,
    "deletable": true,
    "editable": true
   },
   "outputs": [],
   "source": [
    "epochs = 5\n",
    "BATCH_SIZE = 128\n",
    "dropout=0"
   ]
  },
  {
   "cell_type": "code",
   "execution_count": 20,
   "metadata": {
    "collapsed": false,
    "deletable": true,
    "editable": true
   },
   "outputs": [
    {
     "name": "stdout",
     "output_type": "stream",
     "text": [
      "lstm forwards\n",
      "_________________________________________________________________\n",
      "Layer (type)                 Output Shape              Param #   \n",
      "=================================================================\n",
      "input_1 (InputLayer)         (None, 1000)              0         \n",
      "_________________________________________________________________\n",
      "embedding_1 (Embedding)      (None, 1000, 300)         6000000   \n",
      "_________________________________________________________________\n",
      "lstm_1 (LSTM)                (None, 10)                12440     \n",
      "_________________________________________________________________\n",
      "dense_1 (Dense)              (None, 128)               1408      \n",
      "_________________________________________________________________\n",
      "dense_2 (Dense)              (None, 2)                 258       \n",
      "=================================================================\n",
      "Total params: 6,014,106\n",
      "Trainable params: 14,106\n",
      "Non-trainable params: 6,000,000\n",
      "_________________________________________________________________\n",
      "loss: 0.486743384675 runtime: 260.565955\n"
     ]
    }
   ],
   "source": [
    "# lstm forwards\n",
    "print('lstm forwards')\n",
    "model = get_lstm_model(False,dropout)\n",
    "(trained_model,loss, runtime) = train_model(model, epochs)\n",
    "forward_pred = get_pred(trained_model)\n",
    "print('loss:' ,loss,'runtime:', runtime.total_seconds())"
   ]
  },
  {
   "cell_type": "code",
   "execution_count": 21,
   "metadata": {
    "collapsed": false,
    "deletable": true,
    "editable": true
   },
   "outputs": [
    {
     "name": "stdout",
     "output_type": "stream",
     "text": [
      "DescribeResult(nobs=1016, minmax=(0.0016443522, 0.0069454229), mean=0.0069402051, variance=2.765881e-08, skewness=-31.82767677307129, kurtosis=1011.0009158555156)\n",
      "1008 0 8 0\n"
     ]
    }
   ],
   "source": [
    "print(stats.describe(forward_pred[:,1]))\n",
    "threshhold=0.1\n",
    "(tn, fp, fn, tp) = get_scores_pred(forward_pred, threshhold)\n",
    "print(tn, fp, fn, tp)\n",
    "forward_result = ('forward',threshhold,tn, fp, fn, tp, loss, runtime.total_seconds())"
   ]
  },
  {
   "cell_type": "code",
   "execution_count": 22,
   "metadata": {
    "collapsed": false,
    "deletable": true,
    "editable": true
   },
   "outputs": [
    {
     "name": "stdout",
     "output_type": "stream",
     "text": [
      "lstm_back\n",
      "_________________________________________________________________\n",
      "Layer (type)                 Output Shape              Param #   \n",
      "=================================================================\n",
      "input_2 (InputLayer)         (None, 1000)              0         \n",
      "_________________________________________________________________\n",
      "embedding_1 (Embedding)      (None, 1000, 300)         6000000   \n",
      "_________________________________________________________________\n",
      "lstm_2 (LSTM)                (None, 10)                12440     \n",
      "_________________________________________________________________\n",
      "dense_3 (Dense)              (None, 128)               1408      \n",
      "_________________________________________________________________\n",
      "dense_4 (Dense)              (None, 2)                 258       \n",
      "=================================================================\n",
      "Total params: 6,014,106\n",
      "Trainable params: 14,106\n",
      "Non-trainable params: 6,000,000\n",
      "_________________________________________________________________\n",
      "loss: 0.209033353033 runtime: 359.102995\n"
     ]
    }
   ],
   "source": [
    "# lstm backwards\n",
    "print('lstm_back')\n",
    "model = get_lstm_model(True,dropout)\n",
    "(trained_model,loss, runtime) = train_model(model, epochs)\n",
    "backward_pred = get_pred(trained_model)\n",
    "print('loss:' ,loss,'runtime:', runtime.total_seconds())"
   ]
  },
  {
   "cell_type": "code",
   "execution_count": 23,
   "metadata": {
    "collapsed": false,
    "deletable": true,
    "editable": true
   },
   "outputs": [
    {
     "name": "stdout",
     "output_type": "stream",
     "text": [
      "DescribeResult(nobs=1016, minmax=(0.0005646699, 0.10106423), mean=0.0054643559, variance=5.9410402e-05, skewness=6.789302349090576, kurtosis=65.37682054588791)\n",
      "872 136 3 5\n"
     ]
    }
   ],
   "source": [
    "print(stats.describe(backward_pred[:,1]))\n",
    "threshhold=0.009\n",
    "(tn, fp, fn, tp) = get_scores_pred(backward_pred, threshhold)\n",
    "print(tn, fp, fn, tp)\n",
    "backward_result = ('backward',threshhold,tn, fp, fn, tp, loss, runtime.total_seconds())"
   ]
  },
  {
   "cell_type": "code",
   "execution_count": 24,
   "metadata": {
    "collapsed": false,
    "deletable": true,
    "editable": true
   },
   "outputs": [
    {
     "name": "stdout",
     "output_type": "stream",
     "text": [
      "bidirectional concat\n",
      "_________________________________________________________________\n",
      "Layer (type)                 Output Shape              Param #   \n",
      "=================================================================\n",
      "input_3 (InputLayer)         (None, 1000)              0         \n",
      "_________________________________________________________________\n",
      "embedding_1 (Embedding)      (None, 1000, 300)         6000000   \n",
      "_________________________________________________________________\n",
      "bidirectional_1 (Bidirection (None, 20)                24880     \n",
      "_________________________________________________________________\n",
      "dense_5 (Dense)              (None, 128)               2688      \n",
      "_________________________________________________________________\n",
      "dense_6 (Dense)              (None, 2)                 258       \n",
      "=================================================================\n",
      "Total params: 6,027,826\n",
      "Trainable params: 27,826\n",
      "Non-trainable params: 6,000,000\n",
      "_________________________________________________________________\n",
      "loss: 0.141877302439 runtime: 510.6483\n"
     ]
    }
   ],
   "source": [
    "# bidirectional concat\n",
    "print('bidirectional concat')\n",
    "model = get_bi_lstm_model('concat', 0)\n",
    "(trained_model,loss, runtime) = train_model(model, epochs)\n",
    "bilstm_pred = get_pred(trained_model)\n",
    "print('loss:' ,loss,'runtime:', runtime.total_seconds())"
   ]
  },
  {
   "cell_type": "code",
   "execution_count": 27,
   "metadata": {
    "collapsed": false,
    "deletable": true,
    "editable": true
   },
   "outputs": [
    {
     "name": "stdout",
     "output_type": "stream",
     "text": [
      "DescribeResult(nobs=1016, minmax=(0.00039808519, 0.069011562), mean=0.0047325562, variance=2.0205429e-05, skewness=7.7373785972595215, kurtosis=85.67902693392917)\n",
      "928 80 6 2\n",
      "+---------------+------------+------+-----+----+----+----------------+---------------+\n",
      "|     Model     | threshhold |  TN  |  FP | FN | TP |      Loss      | RunTime (sec) |\n",
      "+---------------+------------+------+-----+----+----+----------------+---------------+\n",
      "|    forward    |    0.1     | 1008 |  0  | 8  | 0  | 0.486743384675 |   260.565955  |\n",
      "|    backward   |   0.009    | 872  | 136 | 3  | 5  | 0.209033353033 |   359.102995  |\n",
      "| bidirectional |   0.008    | 928  |  80 | 6  | 2  | 0.141877302439 |    510.6483   |\n",
      "+---------------+------------+------+-----+----+----+----------------+---------------+\n"
     ]
    }
   ],
   "source": [
    "print(stats.describe(bilstm_pred[:,1]))\n",
    "threshhold=0.008\n",
    "(tn, fp, fn, tp) = get_scores_pred(bilstm_pred, threshhold)\n",
    "print(tn, fp, fn, tp)\n",
    "bi_result = ('bidirectional',threshhold,tn, fp, fn, tp, loss, runtime.total_seconds())\n",
    "\n",
    "# # line plot of results\n",
    "# results.plot()\n",
    "# pyplot.show()\n",
    "\n",
    "t = PrettyTable(['Model','threshhold','TN', 'FP', 'FN','TP','Loss','RunTime (sec)'])\n",
    "\n",
    "t.add_row(forward_result)\n",
    "t.add_row(backward_result)\n",
    "t.add_row(bi_result)\n",
    "\n",
    "print(t)"
   ]
  },
  {
   "cell_type": "markdown",
   "metadata": {
    "deletable": true,
    "editable": true
   },
   "source": [
    "### Setting probability threshhold "
   ]
  },
  {
   "cell_type": "markdown",
   "metadata": {
    "deletable": true,
    "editable": true
   },
   "source": [
    "- minimize number of papers\n",
    "- max # of fn =1\n",
    "- threshhold >0\n",
    "x_train, x_val, y_train, y_val = split_data(0.8, 0)\n",
    "\n",
    "print(\"x_train shape:\", x_train.shape, \", x_val shape:\", x_val.shape)\n",
    "print(\"y_train shape:\", y_train.shape, \", y_val shape:\", y_val.shape)\n",
    "print((y_train[:,1]==1).sum())\n",
    "print((y_val[:,1]==1).sum())\n"
   ]
  },
  {
   "cell_type": "markdown",
   "metadata": {
    "deletable": true,
    "editable": true
   },
   "source": [
    "### Comparing various LSTM models\n",
    "\n",
    "Comparing LSTM forward, LSTM backward and Bi-directional LSTM"
   ]
  },
  {
   "cell_type": "code",
   "execution_count": null,
   "metadata": {
    "collapsed": false,
    "deletable": true,
    "editable": true
   },
   "outputs": [],
   "source": [
    "results = DataFrame()\n",
    "# sum merge\n",
    "model = get_bi_lstm_model(embedded_sequences, 'sum')\n",
    "results['bilstm_sum'] = train_model(model, 4)\n",
    "# mul merge\n",
    "model = get_bi_lstm_model(embedded_sequences, 'mul')\n",
    "results['bilstm_mul'] = train_model(model, 4)\n",
    "# avg merge\n",
    "model = get_bi_lstm_model(embedded_sequences, 'ave')\n",
    "results['bilstm_ave'] = train_model(model, 4)\n",
    "# concat merge\n",
    "model = get_bi_lstm_model(embedded_sequences, 'concat')\n",
    "results['bilstm_con'] = train_model(model, 4)\n",
    "# line plot of results\n",
    "results.plot()\n",
    "pyplot.show()"
   ]
  },
  {
   "cell_type": "markdown",
   "metadata": {
    "deletable": true,
    "editable": true
   },
   "source": [
    "## Grid Search on hyperparameters"
   ]
  },
  {
   "cell_type": "code",
   "execution_count": 50,
   "metadata": {
    "collapsed": true,
    "deletable": true,
    "editable": true
   },
   "outputs": [],
   "source": [
    "from datetime import datetime\n",
    "from keras.layers import Bidirectional\n",
    "\n",
    "\n",
    "def test_bi_lstm_dropout(epoch, dropout):\n",
    "    \n",
    "    model = get_bi_lstm_model('concat', dropout)\n",
    "    (trained_model,loss, runtime) = train_model(model, epoch)\n",
    "    bidirectional_pred = get_pred(trained_model)\n",
    "    bidirectional_scores = (epoch, dropout,loss, runtime.total_seconds())\n",
    "    return(bidirectional_pred,bidirectional_scores)\n",
    "    \n",
    "      \n",
    "        \n",
    "def run_test(epoch):        \n",
    "    dropouts=[0.1,0.2,0.3,0.4,0.5,0.7]\n",
    "     \n",
    "    \n",
    "    t = PrettyTable(['Epoch','Dropout','Loss','RunTime (sec)'])\n",
    "    \n",
    "    scores= list()\n",
    "    preds = list()\n",
    "    for d in dropouts:\n",
    "        \n",
    "        print('dropout:', d)\n",
    "        (pred, score) = test_bi_lstm_dropout(epoch, d)\n",
    "        scores.append(score)\n",
    "        preds.append(pred)\n",
    "        t.add_row(score)\n",
    "    \n",
    "    print(t) \n",
    "    return (preds,scores)  \n"
   ]
  },
  {
   "cell_type": "code",
   "execution_count": 25,
   "metadata": {
    "collapsed": false,
    "deletable": true,
    "editable": true
   },
   "outputs": [
    {
     "name": "stdout",
     "output_type": "stream",
     "text": [
      "dropout: 0.1\n",
      "_________________________________________________________________\n",
      "Layer (type)                 Output Shape              Param #   \n",
      "=================================================================\n",
      "input_3 (InputLayer)         (None, 1000)              0         \n",
      "_________________________________________________________________\n",
      "embedding_1 (Embedding)      (None, 1000, 300)         6000000   \n",
      "_________________________________________________________________\n",
      "bidirectional_2 (Bidirection (None, 20)                24880     \n",
      "_________________________________________________________________\n",
      "dense_3 (Dense)              (None, 128)               2688      \n",
      "_________________________________________________________________\n",
      "dense_4 (Dense)              (None, 2)                 258       \n",
      "=================================================================\n",
      "Total params: 6,027,826\n",
      "Trainable params: 27,826\n",
      "Non-trainable params: 6,000,000\n",
      "_________________________________________________________________\n",
      "dropout: 0.2\n",
      "_________________________________________________________________\n",
      "Layer (type)                 Output Shape              Param #   \n",
      "=================================================================\n",
      "input_4 (InputLayer)         (None, 1000)              0         \n",
      "_________________________________________________________________\n",
      "embedding_1 (Embedding)      (None, 1000, 300)         6000000   \n",
      "_________________________________________________________________\n",
      "bidirectional_3 (Bidirection (None, 20)                24880     \n",
      "_________________________________________________________________\n",
      "dense_5 (Dense)              (None, 128)               2688      \n",
      "_________________________________________________________________\n",
      "dense_6 (Dense)              (None, 2)                 258       \n",
      "=================================================================\n",
      "Total params: 6,027,826\n",
      "Trainable params: 27,826\n",
      "Non-trainable params: 6,000,000\n",
      "_________________________________________________________________\n",
      "dropout: 0.3\n",
      "_________________________________________________________________\n",
      "Layer (type)                 Output Shape              Param #   \n",
      "=================================================================\n",
      "input_5 (InputLayer)         (None, 1000)              0         \n",
      "_________________________________________________________________\n",
      "embedding_1 (Embedding)      (None, 1000, 300)         6000000   \n",
      "_________________________________________________________________\n",
      "bidirectional_4 (Bidirection (None, 20)                24880     \n",
      "_________________________________________________________________\n",
      "dense_7 (Dense)              (None, 128)               2688      \n",
      "_________________________________________________________________\n",
      "dense_8 (Dense)              (None, 2)                 258       \n",
      "=================================================================\n",
      "Total params: 6,027,826\n",
      "Trainable params: 27,826\n",
      "Non-trainable params: 6,000,000\n",
      "_________________________________________________________________\n",
      "dropout: 0.4\n",
      "_________________________________________________________________\n",
      "Layer (type)                 Output Shape              Param #   \n",
      "=================================================================\n",
      "input_6 (InputLayer)         (None, 1000)              0         \n",
      "_________________________________________________________________\n",
      "embedding_1 (Embedding)      (None, 1000, 300)         6000000   \n",
      "_________________________________________________________________\n",
      "bidirectional_5 (Bidirection (None, 20)                24880     \n",
      "_________________________________________________________________\n",
      "dense_9 (Dense)              (None, 128)               2688      \n",
      "_________________________________________________________________\n",
      "dense_10 (Dense)             (None, 2)                 258       \n",
      "=================================================================\n",
      "Total params: 6,027,826\n",
      "Trainable params: 27,826\n",
      "Non-trainable params: 6,000,000\n",
      "_________________________________________________________________\n",
      "dropout: 0.5\n",
      "_________________________________________________________________\n",
      "Layer (type)                 Output Shape              Param #   \n",
      "=================================================================\n",
      "input_7 (InputLayer)         (None, 1000)              0         \n",
      "_________________________________________________________________\n",
      "embedding_1 (Embedding)      (None, 1000, 300)         6000000   \n",
      "_________________________________________________________________\n",
      "bidirectional_6 (Bidirection (None, 20)                24880     \n",
      "_________________________________________________________________\n",
      "dense_11 (Dense)             (None, 128)               2688      \n",
      "_________________________________________________________________\n",
      "dense_12 (Dense)             (None, 2)                 258       \n",
      "=================================================================\n",
      "Total params: 6,027,826\n",
      "Trainable params: 27,826\n",
      "Non-trainable params: 6,000,000\n",
      "_________________________________________________________________\n",
      "dropout: 0.7\n",
      "_________________________________________________________________\n",
      "Layer (type)                 Output Shape              Param #   \n",
      "=================================================================\n",
      "input_8 (InputLayer)         (None, 1000)              0         \n",
      "_________________________________________________________________\n",
      "embedding_1 (Embedding)      (None, 1000, 300)         6000000   \n",
      "_________________________________________________________________\n",
      "bidirectional_7 (Bidirection (None, 20)                24880     \n",
      "_________________________________________________________________\n",
      "dense_13 (Dense)             (None, 128)               2688      \n",
      "_________________________________________________________________\n",
      "dense_14 (Dense)             (None, 2)                 258       \n",
      "=================================================================\n",
      "Total params: 6,027,826\n",
      "Trainable params: 27,826\n",
      "Non-trainable params: 6,000,000\n",
      "_________________________________________________________________\n",
      "+-------+---------+----------------+---------------+\n",
      "| Epoch | Dropout |      Loss      | RunTime (sec) |\n",
      "+-------+---------+----------------+---------------+\n",
      "|   5   |   0.1   | 0.545979741153 |   376.335324  |\n",
      "|   5   |   0.2   | 0.594979035591 |   391.773934  |\n",
      "|   5   |   0.3   | 0.599362396347 |   420.845115  |\n",
      "|   5   |   0.4   | 0.544027081378 |   431.016677  |\n",
      "|   5   |   0.5   | 0.561283976698 |   427.738583  |\n",
      "|   5   |   0.7   | 0.52324755956  |   446.366116  |\n",
      "+-------+---------+----------------+---------------+\n"
     ]
    }
   ],
   "source": [
    " (preds,scores) = run_test(5)"
   ]
  },
  {
   "cell_type": "code",
   "execution_count": 48,
   "metadata": {
    "collapsed": false,
    "deletable": true,
    "editable": true
   },
   "outputs": [
    {
     "name": "stdout",
     "output_type": "stream",
     "text": [
      "dropout=0.1\n",
      "DescribeResult(nobs=4556, minmax=(0.016743055, 0.10690393), mean=0.036164369, variance=8.8121218e-05, skewness=0.8448181748390198, kurtosis=2.6091010298200237)\n",
      "1185 3350 5 16\n",
      "dropout=0.5\n",
      "DescribeResult(nobs=4556, minmax=(0.015808305, 0.12366454), mean=0.041557342, variance=0.00016014803, skewness=0.9866886734962463, kurtosis=2.3124359111347177)\n",
      "878 3657 3 18\n",
      "dropout=0.7\n",
      "DescribeResult(nobs=4556, minmax=(0.013476559, 0.079365678), mean=0.030714523, variance=7.7325727e-05, skewness=0.8100983500480652, kurtosis=1.0534353684582793)\n",
      "2496 2039 9 12\n"
     ]
    }
   ],
   "source": [
    "# stats.describe(preds[:,1][0])\n",
    "\n",
    "\n",
    "\n",
    "print('dropout=0.1')\n",
    "print(stats.describe(preds[0][:,1]))\n",
    "threshhold=0.03\n",
    "(tn, fp, fn, tp) = get_scores_pred(preds[0], threshhold)\n",
    "print(tn, fp, fn, tp)\n",
    "\n",
    "\n",
    "print('dropout=0.5')\n",
    "print(stats.describe(preds[4][:,1]))\n",
    "threshhold=0.03\n",
    "(tn, fp, fn, tp) = get_scores_pred(preds[4], threshhold)\n",
    "print(tn, fp, fn, tp)\n",
    "\n",
    "\n",
    "print('dropout=0.7')\n",
    "print(stats.describe(preds[5][:,1]))\n",
    "threshhold=0.03\n",
    "(tn, fp, fn, tp) = get_scores_pred(preds[5], threshhold)\n",
    "print(tn, fp, fn, tp)\n"
   ]
  },
  {
   "cell_type": "code",
   "execution_count": 51,
   "metadata": {
    "collapsed": false,
    "deletable": true,
    "editable": true
   },
   "outputs": [
    {
     "name": "stdout",
     "output_type": "stream",
     "text": [
      "dropout: 0.1\n",
      "_________________________________________________________________\n",
      "Layer (type)                 Output Shape              Param #   \n",
      "=================================================================\n",
      "input_9 (InputLayer)         (None, 1000)              0         \n",
      "_________________________________________________________________\n",
      "embedding_1 (Embedding)      (None, 1000, 300)         6000000   \n",
      "_________________________________________________________________\n",
      "bidirectional_8 (Bidirection (None, 20)                24880     \n",
      "_________________________________________________________________\n",
      "dense_15 (Dense)             (None, 128)               2688      \n",
      "_________________________________________________________________\n",
      "dense_16 (Dense)             (None, 2)                 258       \n",
      "=================================================================\n",
      "Total params: 6,027,826\n",
      "Trainable params: 27,826\n",
      "Non-trainable params: 6,000,000\n",
      "_________________________________________________________________\n",
      "dropout: 0.2\n",
      "_________________________________________________________________\n",
      "Layer (type)                 Output Shape              Param #   \n",
      "=================================================================\n",
      "input_10 (InputLayer)        (None, 1000)              0         \n",
      "_________________________________________________________________\n",
      "embedding_1 (Embedding)      (None, 1000, 300)         6000000   \n",
      "_________________________________________________________________\n",
      "bidirectional_9 (Bidirection (None, 20)                24880     \n",
      "_________________________________________________________________\n",
      "dense_17 (Dense)             (None, 128)               2688      \n",
      "_________________________________________________________________\n",
      "dense_18 (Dense)             (None, 2)                 258       \n",
      "=================================================================\n",
      "Total params: 6,027,826\n",
      "Trainable params: 27,826\n",
      "Non-trainable params: 6,000,000\n",
      "_________________________________________________________________\n",
      "dropout: 0.3\n",
      "_________________________________________________________________\n",
      "Layer (type)                 Output Shape              Param #   \n",
      "=================================================================\n",
      "input_11 (InputLayer)        (None, 1000)              0         \n",
      "_________________________________________________________________\n",
      "embedding_1 (Embedding)      (None, 1000, 300)         6000000   \n",
      "_________________________________________________________________\n",
      "bidirectional_10 (Bidirectio (None, 20)                24880     \n",
      "_________________________________________________________________\n",
      "dense_19 (Dense)             (None, 128)               2688      \n",
      "_________________________________________________________________\n",
      "dense_20 (Dense)             (None, 2)                 258       \n",
      "=================================================================\n",
      "Total params: 6,027,826\n",
      "Trainable params: 27,826\n",
      "Non-trainable params: 6,000,000\n",
      "_________________________________________________________________\n",
      "dropout: 0.4\n",
      "_________________________________________________________________\n",
      "Layer (type)                 Output Shape              Param #   \n",
      "=================================================================\n",
      "input_12 (InputLayer)        (None, 1000)              0         \n",
      "_________________________________________________________________\n",
      "embedding_1 (Embedding)      (None, 1000, 300)         6000000   \n",
      "_________________________________________________________________\n",
      "bidirectional_11 (Bidirectio (None, 20)                24880     \n",
      "_________________________________________________________________\n",
      "dense_21 (Dense)             (None, 128)               2688      \n",
      "_________________________________________________________________\n",
      "dense_22 (Dense)             (None, 2)                 258       \n",
      "=================================================================\n",
      "Total params: 6,027,826\n",
      "Trainable params: 27,826\n",
      "Non-trainable params: 6,000,000\n",
      "_________________________________________________________________\n",
      "dropout: 0.5\n",
      "_________________________________________________________________\n",
      "Layer (type)                 Output Shape              Param #   \n",
      "=================================================================\n",
      "input_13 (InputLayer)        (None, 1000)              0         \n",
      "_________________________________________________________________\n",
      "embedding_1 (Embedding)      (None, 1000, 300)         6000000   \n",
      "_________________________________________________________________\n",
      "bidirectional_12 (Bidirectio (None, 20)                24880     \n",
      "_________________________________________________________________\n",
      "dense_23 (Dense)             (None, 128)               2688      \n",
      "_________________________________________________________________\n",
      "dense_24 (Dense)             (None, 2)                 258       \n",
      "=================================================================\n",
      "Total params: 6,027,826\n",
      "Trainable params: 27,826\n",
      "Non-trainable params: 6,000,000\n",
      "_________________________________________________________________\n",
      "dropout: 0.7\n",
      "_________________________________________________________________\n",
      "Layer (type)                 Output Shape              Param #   \n",
      "=================================================================\n",
      "input_14 (InputLayer)        (None, 1000)              0         \n",
      "_________________________________________________________________\n",
      "embedding_1 (Embedding)      (None, 1000, 300)         6000000   \n",
      "_________________________________________________________________\n",
      "bidirectional_13 (Bidirectio (None, 20)                24880     \n",
      "_________________________________________________________________\n",
      "dense_25 (Dense)             (None, 128)               2688      \n",
      "_________________________________________________________________\n",
      "dense_26 (Dense)             (None, 2)                 258       \n",
      "=================================================================\n",
      "Total params: 6,027,826\n",
      "Trainable params: 27,826\n",
      "Non-trainable params: 6,000,000\n",
      "_________________________________________________________________\n",
      "+-------+---------+----------------+---------------+\n",
      "| Epoch | Dropout |      Loss      | RunTime (sec) |\n",
      "+-------+---------+----------------+---------------+\n",
      "|   10  |   0.1   | 0.572833827498 |   954.89359   |\n",
      "|   10  |   0.2   | 0.599195067805 |   960.667309  |\n",
      "|   10  |   0.3   | 0.580830704685 |  2309.161803  |\n",
      "|   10  |   0.4   | 0.606931377796 |   930.038935  |\n",
      "|   10  |   0.5   | 0.591600269251 |   953.206539  |\n",
      "|   10  |   0.7   | 0.609071421303 |  1046.750048  |\n",
      "+-------+---------+----------------+---------------+\n"
     ]
    }
   ],
   "source": [
    "(preds,scores) = run_test(10)"
   ]
  },
  {
   "cell_type": "code",
   "execution_count": 58,
   "metadata": {
    "collapsed": false,
    "deletable": true,
    "editable": true
   },
   "outputs": [
    {
     "name": "stdout",
     "output_type": "stream",
     "text": [
      "dropout=0.1\n",
      "DescribeResult(nobs=4556, minmax=(0.020900372, 0.17854363), mean=0.051863007, variance=0.00028814061, skewness=1.7441517114639282, kurtosis=6.015028404743033)\n",
      "4002 533 12 9\n"
     ]
    }
   ],
   "source": [
    "print('dropout=0.1')\n",
    "print(stats.describe(preds[0][:,1]))\n",
    "threshhold=0.07\n",
    "(tn, fp, fn, tp) = get_scores_pred(preds[0], threshhold)\n",
    "print(tn, fp, fn, tp)\n"
   ]
  },
  {
   "cell_type": "code",
   "execution_count": 68,
   "metadata": {
    "collapsed": false,
    "deletable": true,
    "editable": true
   },
   "outputs": [
    {
     "name": "stdout",
     "output_type": "stream",
     "text": [
      "dropout=0.3\n",
      "DescribeResult(nobs=4556, minmax=(0.0074478509, 0.096369863), mean=0.032401193, variance=6.4377266e-05, skewness=1.1691046953201294, kurtosis=4.129928662552521)\n",
      "155 4380 0 21\n"
     ]
    }
   ],
   "source": [
    "print('dropout=0.3')\n",
    "print(stats.describe(preds[2][:,1]))\n",
    "threshhold=0.02\n",
    "(tn, fp, fn, tp) = get_scores_pred(preds[2], threshhold)\n",
    "print(tn, fp, fn, tp)\n"
   ]
  },
  {
   "cell_type": "code",
   "execution_count": 64,
   "metadata": {
    "collapsed": false,
    "deletable": true,
    "editable": true
   },
   "outputs": [
    {
     "name": "stdout",
     "output_type": "stream",
     "text": [
      "dropout=0.7\n",
      "DescribeResult(nobs=4556, minmax=(0.007370112, 0.062455419), mean=0.029001787, variance=4.1923089e-05, skewness=0.47635743021965027, kurtosis=0.46874233525733633)\n",
      "2670 1865 9 12\n"
     ]
    }
   ],
   "source": [
    "print('dropout=0.7')\n",
    "print(stats.describe(preds[5][:,1]))\n",
    "threshhold=0.03\n",
    "(tn, fp, fn, tp) = get_scores_pred(preds[5], threshhold)\n",
    "print(tn, fp, fn, tp)\n"
   ]
  },
  {
   "cell_type": "code",
   "execution_count": null,
   "metadata": {
    "collapsed": true,
    "deletable": true,
    "editable": true
   },
   "outputs": [],
   "source": []
  }
 ],
 "metadata": {
  "kernelspec": {
   "display_name": "Python 3",
   "language": "python",
   "name": "python3"
  },
  "language_info": {
   "codemirror_mode": {
    "name": "ipython",
    "version": 3
   },
   "file_extension": ".py",
   "mimetype": "text/x-python",
   "name": "python",
   "nbconvert_exporter": "python",
   "pygments_lexer": "ipython3",
   "version": "3.5.2"
  }
 },
 "nbformat": 4,
 "nbformat_minor": 2
}
